{
  "nbformat": 4,
  "nbformat_minor": 0,
  "metadata": {
    "colab": {
      "provenance": [],
      "collapsed_sections": [
        "hPm0rjF0xQFB",
        "Yh7m2sibgL8E",
        "Dy3Lua2pyp3N",
        "a46vSypfCG3q",
        "yvFvApS8Vbq-",
        "BS0x7fHEWDAz",
        "-5aXvVdnFmqV",
        "mlIE91ATJYu6",
        "20ev_IQrMo5u",
        "DlVbc0I_M9p6"
      ]
    },
    "kernelspec": {
      "name": "python3",
      "display_name": "Python 3"
    },
    "gpuClass": "standard"
  },
  "cells": [
    {
      "cell_type": "markdown",
      "metadata": {
        "id": "hPm0rjF0xQFB"
      },
      "source": [
        "# 1. **Prepare datasets**"
      ]
    },
    {
      "cell_type": "markdown",
      "source": [
        "* *1*. cek data set train.tsv\n",
        "\n",
        "sumber file data berdasarkan file challange ppt platinum\n",
        "\n",
        "a. https://drive.google.com/file/d/1RCHGfn9JJyyReAh8PIIoF8Ch0H3miP0u/view\n",
        "\n",
        "file ini diganti format txt menjadi tsv\n",
        "\n",
        "2. cek data set abusive twiter abusive\n",
        "\n",
        "sumber file data untuk yang diklasifikasi berdasarkan file challange ppt platinum\n",
        "\n",
        "b. https://drive.google.com/drive/folders/1qm50pKAnzGGw9gtk--lmwR758aZOVish\n",
        "\n",
        "\n",
        "\n",
        "---\n",
        "\n",
        "Kesemua file di upload ulang ke github = https://github.com/adamazanos/Challenge-PLATINUM-K6\n",
        "dan menggunakan url rawnya, karena merepotkan jika harus sering mengkonek ulang sumber datanya"
      ],
      "metadata": {
        "id": "69y9zTDaQVvQ"
      }
    },
    {
      "cell_type": "code",
      "source": [
        "#from google.colab import drive\n",
        "#drive.mount('/content/drive')"
      ],
      "metadata": {
        "id": "zaCRma4UhxNU"
      },
      "execution_count": null,
      "outputs": []
    },
    {
      "cell_type": "markdown",
      "source": [
        "Cek data train"
      ],
      "metadata": {
        "id": "SZ-hXyfVS2Vx"
      }
    },
    {
      "cell_type": "code",
      "metadata": {
        "id": "IzLxzXemxc-I",
        "colab": {
          "base_uri": "https://localhost:8080/",
          "height": 137
        },
        "outputId": "bccfa19e-6121-4155-d3f2-93c105717602"
      },
      "source": [
        "import pandas as pd\n",
        "\n",
        "data_train = 'https://raw.githubusercontent.com/adamazanos/Challenge-PLATINUM-K6/master/training_model/train_preprocess.tsv'\n",
        "\n",
        "df_train = pd.read_table(data_train, header=None, names=[\"Text\",\"Label\"] , encoding='latin-1')\n"
      ],
      "execution_count": null,
      "outputs": [
        {
          "output_type": "error",
          "ename": "IndentationError",
          "evalue": "ignored",
          "traceback": [
            "\u001b[0;36m  File \u001b[0;32m\"<ipython-input-4-ca5f4db4f02d>\"\u001b[0;36m, line \u001b[0;32m6\u001b[0m\n\u001b[0;31m    c\u001b[0m\n\u001b[0m    ^\u001b[0m\n\u001b[0;31mIndentationError\u001b[0m\u001b[0;31m:\u001b[0m unexpected indent\n"
          ]
        }
      ]
    },
    {
      "cell_type": "code",
      "source": [
        "df_train.head()"
      ],
      "metadata": {
        "colab": {
          "base_uri": "https://localhost:8080/",
          "height": 206
        },
        "id": "EPpYk08iCn2I",
        "outputId": "fe9e4861-6cad-423c-8257-3f1844b19da8"
      },
      "execution_count": null,
      "outputs": [
        {
          "output_type": "execute_result",
          "data": {
            "text/plain": [
              "                                                Text     Label\n",
              "0  warung ini dimiliki oleh pengusaha pabrik tahu...  positive\n",
              "1  mohon ulama lurus dan k212 mmbri hujjah partai...   neutral\n",
              "2  lokasi strategis di jalan sumatera bandung . t...  positive\n",
              "3  betapa bahagia nya diri ini saat unboxing pake...  positive\n",
              "4  duh . jadi mahasiswa jangan sombong dong . kas...  negative"
            ],
            "text/html": [
              "\n",
              "  <div id=\"df-22f78d7a-229b-47d9-a987-dae968a2300c\">\n",
              "    <div class=\"colab-df-container\">\n",
              "      <div>\n",
              "<style scoped>\n",
              "    .dataframe tbody tr th:only-of-type {\n",
              "        vertical-align: middle;\n",
              "    }\n",
              "\n",
              "    .dataframe tbody tr th {\n",
              "        vertical-align: top;\n",
              "    }\n",
              "\n",
              "    .dataframe thead th {\n",
              "        text-align: right;\n",
              "    }\n",
              "</style>\n",
              "<table border=\"1\" class=\"dataframe\">\n",
              "  <thead>\n",
              "    <tr style=\"text-align: right;\">\n",
              "      <th></th>\n",
              "      <th>Text</th>\n",
              "      <th>Label</th>\n",
              "    </tr>\n",
              "  </thead>\n",
              "  <tbody>\n",
              "    <tr>\n",
              "      <th>0</th>\n",
              "      <td>warung ini dimiliki oleh pengusaha pabrik tahu...</td>\n",
              "      <td>positive</td>\n",
              "    </tr>\n",
              "    <tr>\n",
              "      <th>1</th>\n",
              "      <td>mohon ulama lurus dan k212 mmbri hujjah partai...</td>\n",
              "      <td>neutral</td>\n",
              "    </tr>\n",
              "    <tr>\n",
              "      <th>2</th>\n",
              "      <td>lokasi strategis di jalan sumatera bandung . t...</td>\n",
              "      <td>positive</td>\n",
              "    </tr>\n",
              "    <tr>\n",
              "      <th>3</th>\n",
              "      <td>betapa bahagia nya diri ini saat unboxing pake...</td>\n",
              "      <td>positive</td>\n",
              "    </tr>\n",
              "    <tr>\n",
              "      <th>4</th>\n",
              "      <td>duh . jadi mahasiswa jangan sombong dong . kas...</td>\n",
              "      <td>negative</td>\n",
              "    </tr>\n",
              "  </tbody>\n",
              "</table>\n",
              "</div>\n",
              "      <button class=\"colab-df-convert\" onclick=\"convertToInteractive('df-22f78d7a-229b-47d9-a987-dae968a2300c')\"\n",
              "              title=\"Convert this dataframe to an interactive table.\"\n",
              "              style=\"display:none;\">\n",
              "        \n",
              "  <svg xmlns=\"http://www.w3.org/2000/svg\" height=\"24px\"viewBox=\"0 0 24 24\"\n",
              "       width=\"24px\">\n",
              "    <path d=\"M0 0h24v24H0V0z\" fill=\"none\"/>\n",
              "    <path d=\"M18.56 5.44l.94 2.06.94-2.06 2.06-.94-2.06-.94-.94-2.06-.94 2.06-2.06.94zm-11 1L8.5 8.5l.94-2.06 2.06-.94-2.06-.94L8.5 2.5l-.94 2.06-2.06.94zm10 10l.94 2.06.94-2.06 2.06-.94-2.06-.94-.94-2.06-.94 2.06-2.06.94z\"/><path d=\"M17.41 7.96l-1.37-1.37c-.4-.4-.92-.59-1.43-.59-.52 0-1.04.2-1.43.59L10.3 9.45l-7.72 7.72c-.78.78-.78 2.05 0 2.83L4 21.41c.39.39.9.59 1.41.59.51 0 1.02-.2 1.41-.59l7.78-7.78 2.81-2.81c.8-.78.8-2.07 0-2.86zM5.41 20L4 18.59l7.72-7.72 1.47 1.35L5.41 20z\"/>\n",
              "  </svg>\n",
              "      </button>\n",
              "      \n",
              "  <style>\n",
              "    .colab-df-container {\n",
              "      display:flex;\n",
              "      flex-wrap:wrap;\n",
              "      gap: 12px;\n",
              "    }\n",
              "\n",
              "    .colab-df-convert {\n",
              "      background-color: #E8F0FE;\n",
              "      border: none;\n",
              "      border-radius: 50%;\n",
              "      cursor: pointer;\n",
              "      display: none;\n",
              "      fill: #1967D2;\n",
              "      height: 32px;\n",
              "      padding: 0 0 0 0;\n",
              "      width: 32px;\n",
              "    }\n",
              "\n",
              "    .colab-df-convert:hover {\n",
              "      background-color: #E2EBFA;\n",
              "      box-shadow: 0px 1px 2px rgba(60, 64, 67, 0.3), 0px 1px 3px 1px rgba(60, 64, 67, 0.15);\n",
              "      fill: #174EA6;\n",
              "    }\n",
              "\n",
              "    [theme=dark] .colab-df-convert {\n",
              "      background-color: #3B4455;\n",
              "      fill: #D2E3FC;\n",
              "    }\n",
              "\n",
              "    [theme=dark] .colab-df-convert:hover {\n",
              "      background-color: #434B5C;\n",
              "      box-shadow: 0px 1px 3px 1px rgba(0, 0, 0, 0.15);\n",
              "      filter: drop-shadow(0px 1px 2px rgba(0, 0, 0, 0.3));\n",
              "      fill: #FFFFFF;\n",
              "    }\n",
              "  </style>\n",
              "\n",
              "      <script>\n",
              "        const buttonEl =\n",
              "          document.querySelector('#df-22f78d7a-229b-47d9-a987-dae968a2300c button.colab-df-convert');\n",
              "        buttonEl.style.display =\n",
              "          google.colab.kernel.accessAllowed ? 'block' : 'none';\n",
              "\n",
              "        async function convertToInteractive(key) {\n",
              "          const element = document.querySelector('#df-22f78d7a-229b-47d9-a987-dae968a2300c');\n",
              "          const dataTable =\n",
              "            await google.colab.kernel.invokeFunction('convertToInteractive',\n",
              "                                                     [key], {});\n",
              "          if (!dataTable) return;\n",
              "\n",
              "          const docLinkHtml = 'Like what you see? Visit the ' +\n",
              "            '<a target=\"_blank\" href=https://colab.research.google.com/notebooks/data_table.ipynb>data table notebook</a>'\n",
              "            + ' to learn more about interactive tables.';\n",
              "          element.innerHTML = '';\n",
              "          dataTable['output_type'] = 'display_data';\n",
              "          await google.colab.output.renderOutput(dataTable, element);\n",
              "          const docLink = document.createElement('div');\n",
              "          docLink.innerHTML = docLinkHtml;\n",
              "          element.appendChild(docLink);\n",
              "        }\n",
              "      </script>\n",
              "    </div>\n",
              "  </div>\n",
              "  "
            ]
          },
          "metadata": {},
          "execution_count": 3
        }
      ]
    },
    {
      "cell_type": "code",
      "source": [
        "df_train.shape"
      ],
      "metadata": {
        "colab": {
          "base_uri": "https://localhost:8080/"
        },
        "id": "wtGoo4LMDi-4",
        "outputId": "033f2655-2850-4bff-c4c3-5d0336aa298d"
      },
      "execution_count": null,
      "outputs": [
        {
          "output_type": "execute_result",
          "data": {
            "text/plain": [
              "(11000, 2)"
            ]
          },
          "metadata": {},
          "execution_count": 4
        }
      ]
    },
    {
      "cell_type": "code",
      "source": [
        "df_train.Label.value_counts()"
      ],
      "metadata": {
        "colab": {
          "base_uri": "https://localhost:8080/"
        },
        "id": "D--4dJraE5ir",
        "outputId": "99fd968d-4c83-4f6e-a01b-f641bae86ba7"
      },
      "execution_count": null,
      "outputs": [
        {
          "output_type": "execute_result",
          "data": {
            "text/plain": [
              "positive    6416\n",
              "negative    3436\n",
              "neutral     1148\n",
              "Name: Label, dtype: int64"
            ]
          },
          "metadata": {},
          "execution_count": 5
        }
      ]
    },
    {
      "cell_type": "markdown",
      "source": [
        "Kita cek isi dataset challangenya nya dan di dalamnya terdapat\n",
        "1100 data. Terdiri dari:\n",
        "*   positive    6416\n",
        "*   negative    3436\n",
        "*   neutral     1148\n",
        "\n",
        "\n",
        "\n",
        "\n",
        "\n",
        "\n"
      ],
      "metadata": {
        "id": "TDfiXwFZECCy"
      }
    },
    {
      "cell_type": "markdown",
      "source": [
        "#2. Data Prepocessing"
      ],
      "metadata": {
        "id": "Yh7m2sibgL8E"
      }
    },
    {
      "cell_type": "markdown",
      "metadata": {
        "id": "Dy3Lua2pyp3N"
      },
      "source": [
        "## **Text Normalization/Cleansing**"
      ]
    },
    {
      "cell_type": "markdown",
      "source": [
        "Demi kemudahan, variable nya kita pakai sesuai template"
      ],
      "metadata": {
        "id": "9OHY3a0zVFTU"
      }
    },
    {
      "cell_type": "code",
      "source": [
        "import pandas as pd\n",
        "import re\n",
        "\n",
        "df_slang = pd.read_csv(r\"https://raw.githubusercontent.com/adamazanos/Challenge-PLATINUM-K6/master/twitter_abuse/new_kamusalay.csv\", encoding='latin=1', header=None)\n",
        "df_slang = df_slang.rename(columns={0: 'slang', 1: 'formal'})\n",
        "\n",
        "import nltk\n",
        "nltk.download('stopwords')\n",
        "from nltk.corpus import stopwords\n",
        "list_stopwords = set(stopwords.words('indonesian'))\n",
        "\n",
        "def data_cleaning (tweet):\n",
        "    #Replace enter\n",
        "    c1 = re.sub ('\\\\n','', tweet)\n",
        "    #Replace RT tag in tweet\n",
        "    c2 = re.sub ('RT',' ', c1)\n",
        "    #Replace mention username in tweet\n",
        "    c3 = re.sub ('USER', ' ', c2)\n",
        "    #Replace URL (http:// or https://) in tweet\n",
        "    c4 = re.sub ('(http|https):\\/\\/s+', ' ', c3)\n",
        "    #Replace punctuation\n",
        "    c5 = re.sub ('[^0-9a-zA-Z]+', ' ', c4)\n",
        "    #Replace emoticon\n",
        "    c6 = re.sub ('x[a-z0-9]{2}', ' ', c5)\n",
        "    #Replace Number\n",
        "    c7 = re.sub (\"\\d+\", ' ', c6)\n",
        "    #Replace extra space\n",
        "    c8 = re.sub ('  +', '', c7)\n",
        "    return c8\n",
        "\n",
        "def case_folding (tweet):\n",
        "    return tweet.lower()\n",
        "\n",
        "def slang_normalization(tweets):\n",
        "    res = ''\n",
        "    for item in tweets.split():\n",
        "        if item in df_slang['slang'].values:\n",
        "            res += df_slang[df_slang['slang'] == item]['formal'].iloc[0]\n",
        "        else:\n",
        "            res += item\n",
        "        res += ' '\n",
        "    return res\n",
        "\n",
        "def stopword_removal(tweet):\n",
        "    resp = ''\n",
        "    for item in tweet.split():\n",
        "        if item not in list_stopwords:\n",
        "            resp += item\n",
        "        resp +=' '\n",
        "    clean = re.sub('  +', ' ', resp)\n",
        "    return clean\n",
        "\n",
        "def data_prepocessing(tweet):\n",
        "    tweet = data_cleaning(tweet)\n",
        "    tweet = case_folding(tweet)\n",
        "    tweet = slang_normalization(tweet)\n",
        "    tweet = stopword_removal(tweet)\n",
        "    return tweet"
      ],
      "metadata": {
        "id": "jwEhmGLt-f6q",
        "colab": {
          "base_uri": "https://localhost:8080/"
        },
        "outputId": "bf97befb-3ec3-4f98-f42d-23ca70216830"
      },
      "execution_count": null,
      "outputs": [
        {
          "output_type": "stream",
          "name": "stderr",
          "text": [
            "[nltk_data] Downloading package stopwords to /root/nltk_data...\n",
            "[nltk_data]   Unzipping corpora/stopwords.zip.\n"
          ]
        }
      ]
    },
    {
      "cell_type": "markdown",
      "source": [
        "Kita test cleanernya kita beri nama cleansing"
      ],
      "metadata": {
        "id": "6-JWfA7WSlcL"
      }
    },
    {
      "cell_type": "code",
      "source": [
        "df_train['text_clean'] = df_train.Text.apply(data_prepocessing)"
      ],
      "metadata": {
        "id": "VipLfZDhUL_a"
      },
      "execution_count": null,
      "outputs": []
    },
    {
      "cell_type": "code",
      "source": [
        "df_train.head()"
      ],
      "metadata": {
        "colab": {
          "base_uri": "https://localhost:8080/",
          "height": 206
        },
        "id": "mvUKaNS4VWa4",
        "outputId": "925f15c1-72e3-4ff7-e9af-8afcbf72dd20"
      },
      "execution_count": null,
      "outputs": [
        {
          "output_type": "execute_result",
          "data": {
            "text/plain": [
              "                                                Text     Label  \\\n",
              "0  warung ini dimiliki oleh pengusaha pabrik tahu...  positive   \n",
              "1  mohon ulama lurus dan k212 mmbri hujjah partai...   neutral   \n",
              "2  lokasi strategis di jalan sumatera bandung . t...  positive   \n",
              "3  betapa bahagia nya diri ini saat unboxing pake...  positive   \n",
              "4  duh . jadi mahasiswa jangan sombong dong . kas...  negative   \n",
              "\n",
              "                                          text_clean  \n",
              "0  warung dimiliki pengusaha pabrik puluhan terke...  \n",
              "1  mohon ulama lurus kmmbri hujjah partai diwlh s...  \n",
              "2  lokasi strategis jalan sumatra bandung nya nya...  \n",
              "3  betapa bahagia nya unbo paket barang nya bagus...  \n",
              "4  aduh mahasiswa sombong kasih kartu kuning bela...  "
            ],
            "text/html": [
              "\n",
              "  <div id=\"df-60cac4e4-873e-49c6-9d31-623c5a82d486\">\n",
              "    <div class=\"colab-df-container\">\n",
              "      <div>\n",
              "<style scoped>\n",
              "    .dataframe tbody tr th:only-of-type {\n",
              "        vertical-align: middle;\n",
              "    }\n",
              "\n",
              "    .dataframe tbody tr th {\n",
              "        vertical-align: top;\n",
              "    }\n",
              "\n",
              "    .dataframe thead th {\n",
              "        text-align: right;\n",
              "    }\n",
              "</style>\n",
              "<table border=\"1\" class=\"dataframe\">\n",
              "  <thead>\n",
              "    <tr style=\"text-align: right;\">\n",
              "      <th></th>\n",
              "      <th>Text</th>\n",
              "      <th>Label</th>\n",
              "      <th>text_clean</th>\n",
              "    </tr>\n",
              "  </thead>\n",
              "  <tbody>\n",
              "    <tr>\n",
              "      <th>0</th>\n",
              "      <td>warung ini dimiliki oleh pengusaha pabrik tahu...</td>\n",
              "      <td>positive</td>\n",
              "      <td>warung dimiliki pengusaha pabrik puluhan terke...</td>\n",
              "    </tr>\n",
              "    <tr>\n",
              "      <th>1</th>\n",
              "      <td>mohon ulama lurus dan k212 mmbri hujjah partai...</td>\n",
              "      <td>neutral</td>\n",
              "      <td>mohon ulama lurus kmmbri hujjah partai diwlh s...</td>\n",
              "    </tr>\n",
              "    <tr>\n",
              "      <th>2</th>\n",
              "      <td>lokasi strategis di jalan sumatera bandung . t...</td>\n",
              "      <td>positive</td>\n",
              "      <td>lokasi strategis jalan sumatra bandung nya nya...</td>\n",
              "    </tr>\n",
              "    <tr>\n",
              "      <th>3</th>\n",
              "      <td>betapa bahagia nya diri ini saat unboxing pake...</td>\n",
              "      <td>positive</td>\n",
              "      <td>betapa bahagia nya unbo paket barang nya bagus...</td>\n",
              "    </tr>\n",
              "    <tr>\n",
              "      <th>4</th>\n",
              "      <td>duh . jadi mahasiswa jangan sombong dong . kas...</td>\n",
              "      <td>negative</td>\n",
              "      <td>aduh mahasiswa sombong kasih kartu kuning bela...</td>\n",
              "    </tr>\n",
              "  </tbody>\n",
              "</table>\n",
              "</div>\n",
              "      <button class=\"colab-df-convert\" onclick=\"convertToInteractive('df-60cac4e4-873e-49c6-9d31-623c5a82d486')\"\n",
              "              title=\"Convert this dataframe to an interactive table.\"\n",
              "              style=\"display:none;\">\n",
              "        \n",
              "  <svg xmlns=\"http://www.w3.org/2000/svg\" height=\"24px\"viewBox=\"0 0 24 24\"\n",
              "       width=\"24px\">\n",
              "    <path d=\"M0 0h24v24H0V0z\" fill=\"none\"/>\n",
              "    <path d=\"M18.56 5.44l.94 2.06.94-2.06 2.06-.94-2.06-.94-.94-2.06-.94 2.06-2.06.94zm-11 1L8.5 8.5l.94-2.06 2.06-.94-2.06-.94L8.5 2.5l-.94 2.06-2.06.94zm10 10l.94 2.06.94-2.06 2.06-.94-2.06-.94-.94-2.06-.94 2.06-2.06.94z\"/><path d=\"M17.41 7.96l-1.37-1.37c-.4-.4-.92-.59-1.43-.59-.52 0-1.04.2-1.43.59L10.3 9.45l-7.72 7.72c-.78.78-.78 2.05 0 2.83L4 21.41c.39.39.9.59 1.41.59.51 0 1.02-.2 1.41-.59l7.78-7.78 2.81-2.81c.8-.78.8-2.07 0-2.86zM5.41 20L4 18.59l7.72-7.72 1.47 1.35L5.41 20z\"/>\n",
              "  </svg>\n",
              "      </button>\n",
              "      \n",
              "  <style>\n",
              "    .colab-df-container {\n",
              "      display:flex;\n",
              "      flex-wrap:wrap;\n",
              "      gap: 12px;\n",
              "    }\n",
              "\n",
              "    .colab-df-convert {\n",
              "      background-color: #E8F0FE;\n",
              "      border: none;\n",
              "      border-radius: 50%;\n",
              "      cursor: pointer;\n",
              "      display: none;\n",
              "      fill: #1967D2;\n",
              "      height: 32px;\n",
              "      padding: 0 0 0 0;\n",
              "      width: 32px;\n",
              "    }\n",
              "\n",
              "    .colab-df-convert:hover {\n",
              "      background-color: #E2EBFA;\n",
              "      box-shadow: 0px 1px 2px rgba(60, 64, 67, 0.3), 0px 1px 3px 1px rgba(60, 64, 67, 0.15);\n",
              "      fill: #174EA6;\n",
              "    }\n",
              "\n",
              "    [theme=dark] .colab-df-convert {\n",
              "      background-color: #3B4455;\n",
              "      fill: #D2E3FC;\n",
              "    }\n",
              "\n",
              "    [theme=dark] .colab-df-convert:hover {\n",
              "      background-color: #434B5C;\n",
              "      box-shadow: 0px 1px 3px 1px rgba(0, 0, 0, 0.15);\n",
              "      filter: drop-shadow(0px 1px 2px rgba(0, 0, 0, 0.3));\n",
              "      fill: #FFFFFF;\n",
              "    }\n",
              "  </style>\n",
              "\n",
              "      <script>\n",
              "        const buttonEl =\n",
              "          document.querySelector('#df-60cac4e4-873e-49c6-9d31-623c5a82d486 button.colab-df-convert');\n",
              "        buttonEl.style.display =\n",
              "          google.colab.kernel.accessAllowed ? 'block' : 'none';\n",
              "\n",
              "        async function convertToInteractive(key) {\n",
              "          const element = document.querySelector('#df-60cac4e4-873e-49c6-9d31-623c5a82d486');\n",
              "          const dataTable =\n",
              "            await google.colab.kernel.invokeFunction('convertToInteractive',\n",
              "                                                     [key], {});\n",
              "          if (!dataTable) return;\n",
              "\n",
              "          const docLinkHtml = 'Like what you see? Visit the ' +\n",
              "            '<a target=\"_blank\" href=https://colab.research.google.com/notebooks/data_table.ipynb>data table notebook</a>'\n",
              "            + ' to learn more about interactive tables.';\n",
              "          element.innerHTML = '';\n",
              "          dataTable['output_type'] = 'display_data';\n",
              "          await google.colab.output.renderOutput(dataTable, element);\n",
              "          const docLink = document.createElement('div');\n",
              "          docLink.innerHTML = docLinkHtml;\n",
              "          element.appendChild(docLink);\n",
              "        }\n",
              "      </script>\n",
              "    </div>\n",
              "  </div>\n",
              "  "
            ]
          },
          "metadata": {},
          "execution_count": 8
        }
      ]
    },
    {
      "cell_type": "code",
      "source": [
        "df_train.isnull().sum().sum()"
      ],
      "metadata": {
        "colab": {
          "base_uri": "https://localhost:8080/"
        },
        "id": "yR-BFCf2QuPi",
        "outputId": "5b429ef8-946a-46af-b255-bf3dc2b7fd29"
      },
      "execution_count": null,
      "outputs": [
        {
          "output_type": "execute_result",
          "data": {
            "text/plain": [
              "0"
            ]
          },
          "metadata": {},
          "execution_count": 9
        }
      ]
    },
    {
      "cell_type": "markdown",
      "source": [
        "Sortir data berdasarkan sentimen"
      ],
      "metadata": {
        "id": "gZ5IkhzDyvx3"
      }
    },
    {
      "cell_type": "code",
      "source": [
        "neg = df_train.loc[df_train['Label'] == 'negative'].text_clean.tolist()\n",
        "neu = df_train.loc[df_train['Label'] == 'neutral'].text_clean.tolist()\n",
        "pos = df_train.loc[df_train['Label'] == 'positive'].text_clean.tolist()\n",
        "\n",
        "neg_label = df_train.loc[df_train['Label'] == 'negative'].Label.tolist()\n",
        "neu_label = df_train.loc[df_train['Label'] == 'neutral'].Label.tolist()\n",
        "pos_label = df_train.loc[df_train['Label'] == 'positive'].Label.tolist()"
      ],
      "metadata": {
        "id": "NizvHe8VbFik"
      },
      "execution_count": null,
      "outputs": []
    },
    {
      "cell_type": "markdown",
      "source": [
        "kita test total datanya"
      ],
      "metadata": {
        "id": "9Xz9kPehawzz"
      }
    },
    {
      "cell_type": "code",
      "source": [
        "total_data = pos + neu + neg\n",
        "labels = pos_label + neu_label + neg_label\n",
        "\n",
        "print(\"Pos: %s, Neu: %s, Neg: %s\" % (len(pos), len(neu), len(neg)))\n",
        "print(\"Total data: %s\" % len(total_data))\n"
      ],
      "metadata": {
        "id": "e8NfMFW3azuh",
        "colab": {
          "base_uri": "https://localhost:8080/"
        },
        "outputId": "e86829a8-79a4-4eba-a311-f4efda0a5ebe"
      },
      "execution_count": null,
      "outputs": [
        {
          "output_type": "stream",
          "name": "stdout",
          "text": [
            "Pos: 6416, Neu: 1148, Neg: 3436\n",
            "Total data: 11000\n"
          ]
        }
      ]
    },
    {
      "cell_type": "markdown",
      "source": [
        "#3. **Feature Extraction**"
      ],
      "metadata": {
        "id": "a46vSypfCG3q"
      }
    },
    {
      "cell_type": "code",
      "source": [
        "import pickle\n",
        "from tensorflow.keras.preprocessing.text import Tokenizer\n",
        "from tensorflow.keras.preprocessing.sequence import pad_sequences\n",
        "from collections import defaultdict\n",
        "\n",
        "max_features = 100000\n",
        "tokenizer = Tokenizer(num_words=max_features, split=' ', lower=True)\n",
        "tokenizer.fit_on_texts(total_data)\n",
        "with open('tokenizer.pickle', 'wb') as handle:\n",
        "    pickle.dump(tokenizer, handle, protocol=pickle.HIGHEST_PROTOCOL)\n",
        "    print(\"tokenizer.pickle has created!\")\n",
        "\n",
        "X = tokenizer.texts_to_sequences(total_data)\n",
        "\n",
        "vocab_size = len(tokenizer.word_index)\n",
        "maxlen = max(len(x) for x in X)\n",
        "\n",
        "X = pad_sequences(X)\n",
        "with open('x_pad_sequences.pickle', 'wb') as handle:\n",
        "    pickle.dump(X, handle, protocol=pickle.HIGHEST_PROTOCOL)\n",
        "    print(\"x_pad_sequences.pickle has created!\")"
      ],
      "metadata": {
        "colab": {
          "base_uri": "https://localhost:8080/"
        },
        "id": "Qtj2-WIsRbRr",
        "outputId": "d0896d2d-d597-4bdd-adfe-8cb2a2f67ee2"
      },
      "execution_count": null,
      "outputs": [
        {
          "output_type": "stream",
          "name": "stdout",
          "text": [
            "tokenizer.pickle has created!\n",
            "x_pad_sequences.pickle has created!\n"
          ]
        }
      ]
    },
    {
      "cell_type": "code",
      "source": [
        "Y = pd.get_dummies(labels)\n",
        "Y = Y.values\n",
        "\n",
        "with open('y_labels.pickle', 'wb') as handle:\n",
        "    pickle.dump(Y, handle, protocol=pickle.HIGHEST_PROTOCOL)\n",
        "    print(\"y_labels.pickle has created!\")"
      ],
      "metadata": {
        "colab": {
          "base_uri": "https://localhost:8080/"
        },
        "id": "xtYAgLX8RlBM",
        "outputId": "c2e02cb8-cfb5-42cc-bb5f-b319f9595ec9"
      },
      "execution_count": null,
      "outputs": [
        {
          "output_type": "stream",
          "name": "stdout",
          "text": [
            "y_labels.pickle has created!\n"
          ]
        }
      ]
    },
    {
      "cell_type": "markdown",
      "metadata": {
        "id": "yvFvApS8Vbq-"
      },
      "source": [
        "#  4.**Prepare train & test datasets/Splitting Dataset**"
      ]
    },
    {
      "cell_type": "markdown",
      "source": [
        "Split dataset menjadi 80% untuk train dan 20% untuk test."
      ],
      "metadata": {
        "id": "mqRRjYf9XUF7"
      }
    },
    {
      "cell_type": "code",
      "metadata": {
        "id": "_bEcPTykVbrB"
      },
      "source": [
        "from sklearn.model_selection import train_test_split\n",
        "\n",
        "file = open(\"x_pad_sequences.pickle\",'rb')\n",
        "X = pickle.load(file)\n",
        "file.close()\n",
        "\n",
        "file = open(\"y_labels.pickle\",'rb')\n",
        "Y = pickle.load(file)\n",
        "file.close()\n",
        "\n",
        "X_train, X_test, y_train, y_test = train_test_split(X, Y, test_size=0.2, random_state=1)"
      ],
      "execution_count": null,
      "outputs": []
    },
    {
      "cell_type": "markdown",
      "metadata": {
        "id": "BS0x7fHEWDAz"
      },
      "source": [
        "# 5. **Penerapan Konsep Neural Network**"
      ]
    },
    {
      "cell_type": "code",
      "source": [
        "import numpy as np\n",
        "from tensorflow.keras import layers\n",
        "from tensorflow.keras.models import Sequential\n",
        "from tensorflow.keras.layers import Dense, Embedding, LSTM, SpatialDropout1D\n",
        "from tensorflow.keras import optimizers\n",
        "from tensorflow.keras.callbacks import EarlyStopping, TensorBoard\n",
        "from tensorflow.keras.layers import Flatten\n",
        "from tensorflow.keras import backend as K"
      ],
      "metadata": {
        "id": "n8u2IlEOXfVN"
      },
      "execution_count": null,
      "outputs": []
    },
    {
      "cell_type": "code",
      "source": [
        "embed_dim = 100\n",
        "\n",
        "model_nn = Sequential()\n",
        "model_nn.add(Embedding(max_features, embed_dim, input_length=maxlen))\n",
        "model_nn.add(Flatten())\n",
        "model_nn.add(Dense(3, activation='sigmoid'))\n",
        "\n",
        "model_nn.compile(loss = 'binary_crossentropy', optimizer='adam',metrics = ['accuracy'])\n",
        "print(model_nn.summary())\n",
        "\n",
        "es = EarlyStopping(monitor='val_loss', mode='min',patience=3 , verbose=1)\n",
        "history = model_nn.fit(X_train, y_train, epochs=10, batch_size=10, validation_data=(X_test, y_test), verbose=1, callbacks=[es])"
      ],
      "metadata": {
        "colab": {
          "base_uri": "https://localhost:8080/"
        },
        "id": "pQj9vekNWJgr",
        "outputId": "18eba55f-9ca2-4b40-9732-6c76661e28bd"
      },
      "execution_count": null,
      "outputs": [
        {
          "output_type": "stream",
          "name": "stdout",
          "text": [
            "Model: \"sequential_13\"\n",
            "_________________________________________________________________\n",
            " Layer (type)                Output Shape              Param #   \n",
            "=================================================================\n",
            " embedding_13 (Embedding)    (None, 58, 100)           10000000  \n",
            "                                                                 \n",
            " flatten_6 (Flatten)         (None, 5800)              0         \n",
            "                                                                 \n",
            " dense_13 (Dense)            (None, 3)                 17403     \n",
            "                                                                 \n",
            "=================================================================\n",
            "Total params: 10,017,403\n",
            "Trainable params: 10,017,403\n",
            "Non-trainable params: 0\n",
            "_________________________________________________________________\n",
            "None\n",
            "Epoch 1/10\n",
            "880/880 [==============================] - 91s 103ms/step - loss: 0.3408 - accuracy: 0.7653 - val_loss: 0.2603 - val_accuracy: 0.8355\n",
            "Epoch 2/10\n",
            "880/880 [==============================] - 91s 104ms/step - loss: 0.1606 - accuracy: 0.9106 - val_loss: 0.2486 - val_accuracy: 0.8541\n",
            "Epoch 3/10\n",
            "880/880 [==============================] - 90s 102ms/step - loss: 0.0781 - accuracy: 0.9605 - val_loss: 0.2648 - val_accuracy: 0.8545\n",
            "Epoch 4/10\n",
            "880/880 [==============================] - 91s 103ms/step - loss: 0.0421 - accuracy: 0.9792 - val_loss: 0.3011 - val_accuracy: 0.8423\n",
            "Epoch 5/10\n",
            "880/880 [==============================] - 88s 101ms/step - loss: 0.0280 - accuracy: 0.9830 - val_loss: 0.3333 - val_accuracy: 0.8382\n",
            "Epoch 5: early stopping\n"
          ]
        }
      ]
    },
    {
      "cell_type": "code",
      "source": [
        "from sklearn import metrics\n",
        "\n",
        "predictions = model_nn.predict(X_test)\n",
        "y_pred = predictions\n",
        "matrix_test = metrics.classification_report(y_test.argmax(axis=1), y_pred.argmax(axis=1))\n",
        "print(\"Testing selesai\")\n",
        "print(matrix_test)"
      ],
      "metadata": {
        "colab": {
          "base_uri": "https://localhost:8080/"
        },
        "id": "_I0lnRUfWRt7",
        "outputId": "56ca3724-66b5-4b78-d929-8d66985da27b"
      },
      "execution_count": null,
      "outputs": [
        {
          "output_type": "stream",
          "name": "stdout",
          "text": [
            "69/69 [==============================] - 0s 2ms/step\n",
            "Testing selesai\n",
            "              precision    recall  f1-score   support\n",
            "\n",
            "           0       0.77      0.78      0.77       685\n",
            "           1       0.80      0.65      0.72       233\n",
            "           2       0.88      0.90      0.89      1282\n",
            "\n",
            "    accuracy                           0.84      2200\n",
            "   macro avg       0.82      0.78      0.79      2200\n",
            "weighted avg       0.84      0.84      0.84      2200\n",
            "\n"
          ]
        }
      ]
    },
    {
      "cell_type": "code",
      "source": [
        "import numpy as np\n",
        "from sklearn.metrics import classification_report\n",
        "from sklearn.metrics import accuracy_score\n",
        "from sklearn.model_selection import KFold\n",
        "\n",
        "kf = KFold(n_splits=5,random_state=42,shuffle=True)\n",
        "\n",
        "accuracies = []\n",
        "\n",
        "y = Y\n",
        "\n",
        "embed_dim = 100\n",
        "\n",
        "for iteration, data in enumerate(kf.split(X), start=1):\n",
        "\n",
        "    data_train   = X[data[0]]\n",
        "    target_train = y[data[0]]\n",
        "\n",
        "    data_test    = X[data[1]]\n",
        "    target_test  = y[data[1]]\n",
        "\n",
        "    model_nn = Sequential()\n",
        "    model_nn.add(Embedding(max_features, embed_dim, input_length=maxlen))\n",
        "    model_nn.add(Flatten())\n",
        "    model_nn.add(Dense(3, activation='sigmoid'))\n",
        "\n",
        "    model_nn.compile(loss = 'binary_crossentropy', optimizer='adam',metrics = ['accuracy'])\n",
        "\n",
        "    es = EarlyStopping(monitor='val_loss', mode='min',patience=3 , verbose=0)\n",
        "    history = model_nn.fit(X_train, y_train, epochs=10, batch_size=10, validation_data=(X_test, y_test), verbose=0, callbacks=[es])\n",
        "\n",
        "    predictions = model_nn.predict(X_test)\n",
        "    y_pred = predictions\n",
        "\n",
        "    # for the current fold only\n",
        "    accuracy = accuracy_score(y_test.argmax(axis=1), y_pred.argmax(axis=1))\n",
        "\n",
        "    print(\"Training ke-\", iteration)\n",
        "    print(classification_report(y_test.argmax(axis=1), y_pred.argmax(axis=1)))\n",
        "    print(\"======================================================\")\n",
        "\n",
        "    accuracies.append(accuracy)\n",
        "\n",
        "# this is the average accuracy over all folds\n",
        "average_accuracy = np.mean(accuracies)\n",
        "\n",
        "print()\n",
        "print()\n",
        "print()\n",
        "print(\"Rata-rata Accuracy: \", average_accuracy)"
      ],
      "metadata": {
        "colab": {
          "base_uri": "https://localhost:8080/"
        },
        "id": "8iuFkEnyWX4U",
        "outputId": "aeb761db-2c3c-4346-b36c-4ab4356222a2"
      },
      "execution_count": null,
      "outputs": [
        {
          "output_type": "stream",
          "name": "stdout",
          "text": [
            "69/69 [==============================] - 0s 2ms/step\n",
            "Training ke- 1\n",
            "              precision    recall  f1-score   support\n",
            "\n",
            "           0       0.78      0.76      0.77       685\n",
            "           1       0.79      0.65      0.71       233\n",
            "           2       0.87      0.91      0.89      1282\n",
            "\n",
            "    accuracy                           0.84      2200\n",
            "   macro avg       0.81      0.77      0.79      2200\n",
            "weighted avg       0.84      0.84      0.84      2200\n",
            "\n",
            "======================================================\n",
            "69/69 [==============================] - 0s 2ms/step\n",
            "Training ke- 2\n",
            "              precision    recall  f1-score   support\n",
            "\n",
            "           0       0.77      0.78      0.78       685\n",
            "           1       0.79      0.65      0.72       233\n",
            "           2       0.88      0.90      0.89      1282\n",
            "\n",
            "    accuracy                           0.84      2200\n",
            "   macro avg       0.82      0.78      0.80      2200\n",
            "weighted avg       0.84      0.84      0.84      2200\n",
            "\n",
            "======================================================\n",
            "69/69 [==============================] - 0s 2ms/step\n",
            "Training ke- 3\n",
            "              precision    recall  f1-score   support\n",
            "\n",
            "           0       0.80      0.74      0.77       685\n",
            "           1       0.79      0.65      0.71       233\n",
            "           2       0.86      0.93      0.89      1282\n",
            "\n",
            "    accuracy                           0.84      2200\n",
            "   macro avg       0.82      0.77      0.79      2200\n",
            "weighted avg       0.84      0.84      0.84      2200\n",
            "\n",
            "======================================================\n",
            "69/69 [==============================] - 0s 2ms/step\n",
            "Training ke- 4\n",
            "              precision    recall  f1-score   support\n",
            "\n",
            "           0       0.78      0.77      0.78       685\n",
            "           1       0.81      0.67      0.73       233\n",
            "           2       0.88      0.91      0.90      1282\n",
            "\n",
            "    accuracy                           0.84      2200\n",
            "   macro avg       0.82      0.78      0.80      2200\n",
            "weighted avg       0.84      0.84      0.84      2200\n",
            "\n",
            "======================================================\n",
            "69/69 [==============================] - 0s 2ms/step\n",
            "Training ke- 5\n",
            "              precision    recall  f1-score   support\n",
            "\n",
            "           0       0.79      0.74      0.76       685\n",
            "           1       0.78      0.68      0.72       233\n",
            "           2       0.87      0.91      0.89      1282\n",
            "\n",
            "    accuracy                           0.84      2200\n",
            "   macro avg       0.81      0.78      0.79      2200\n",
            "weighted avg       0.83      0.84      0.83      2200\n",
            "\n",
            "======================================================\n",
            "\n",
            "\n",
            "\n",
            "Rata-rata Accuracy:  0.8390000000000001\n"
          ]
        }
      ]
    },
    {
      "cell_type": "markdown",
      "source": [
        "Hasilnya nilai rata-rata accuracy pada angka 0.8390000000000001. Ini menunjukkan model kita cukup stabil pada angka 0.83."
      ],
      "metadata": {
        "id": "r0XpstDSTeRV"
      }
    },
    {
      "cell_type": "code",
      "source": [
        "# history.history\n",
        "import matplotlib.pyplot as plt\n",
        "plt.style.use('ggplot')\n",
        "\n",
        "def plot_history(history):\n",
        "    acc = history.history['accuracy']\n",
        "    val_acc = history.history['val_accuracy']\n",
        "    loss = history.history['loss']\n",
        "    val_loss = history.history['val_loss']\n",
        "    x = range(1, len(acc) + 1)\n",
        "\n",
        "    plt.figure(figsize=(12, 5))\n",
        "    plt.subplot(1, 2, 1)\n",
        "    plt.plot(x, acc, 'b', label='Training acc')\n",
        "    plt.plot(x, val_acc, 'r', label='Validation acc')\n",
        "    plt.title('Training and validation accuracy')\n",
        "    plt.legend()\n",
        "    plt.subplot(1, 2, 2)\n",
        "    plt.plot(x, loss, 'b', label='Training loss')\n",
        "    plt.plot(x, val_loss, 'r', label='Validation loss')\n",
        "    plt.title('Training and validation loss')\n",
        "    plt.legend()\n",
        "\n",
        "%matplotlib inline\n",
        "plot_history(history)"
      ],
      "metadata": {
        "id": "O3WMO-lWWp1o",
        "colab": {
          "base_uri": "https://localhost:8080/",
          "height": 337
        },
        "outputId": "2635daf5-976d-4113-e752-527406e083c2"
      },
      "execution_count": null,
      "outputs": [
        {
          "output_type": "display_data",
          "data": {
            "text/plain": [
              "<Figure size 864x360 with 2 Axes>"
            ],
            "image/png": "[encoded data removed]"
          },
          "metadata": {
            "needs_background": "light"
          }
        }
      ]
    },
    {
      "cell_type": "code",
      "source": [
        "model_nn.save('model_nn.h5')\n",
        "print(\"Model has created!\")"
      ],
      "metadata": {
        "id": "kH3fXkFHWrh-",
        "colab": {
          "base_uri": "https://localhost:8080/"
        },
        "outputId": "2e0e7603-8460-491b-b091-83cbeec39f44"
      },
      "execution_count": null,
      "outputs": [
        {
          "output_type": "stream",
          "name": "stdout",
          "text": [
            "Model has created!\n"
          ]
        }
      ]
    },
    {
      "cell_type": "markdown",
      "source": [
        "# 6.  **Penerapan Konsep LSTM**\n",
        "\n"
      ],
      "metadata": {
        "id": "-5aXvVdnFmqV"
      }
    },
    {
      "cell_type": "markdown",
      "source": [
        "Jalankan training dengan metode LSTM. Arsitektur LSTM ini dibangun menggunakan framework Tensorflow."
      ],
      "metadata": {
        "id": "YcjPYyw8Csly"
      }
    },
    {
      "cell_type": "code",
      "metadata": {
        "id": "RdSqgAENqWKS"
      },
      "source": [
        "import numpy as np\n",
        "from tensorflow.keras import layers\n",
        "from tensorflow.keras.models import Sequential\n",
        "from tensorflow.keras.layers import Dense, Embedding, LSTM, SpatialDropout1D, SimpleRNN, Activation\n",
        "from tensorflow.keras import optimizers\n",
        "from tensorflow.keras.callbacks import EarlyStopping, TensorBoard\n",
        "from tensorflow.keras.layers import Flatten\n",
        "from tensorflow.keras import backend as K"
      ],
      "execution_count": null,
      "outputs": []
    },
    {
      "cell_type": "markdown",
      "source": [
        "Adapun arsitektur LSTM yang dibangun sebagai berikut:\n",
        "\n",
        "\n",
        "*   Input Layer: Data teks setelah dilakukan Feature Extraction, dikondisikan menjadi sebuah matrix berdimensi 100.\n",
        "*   Unit Layer: Pada bagian ini diterapkan unit/neuron sejumlah 64. Pada tahap ini pula fitur Dropout diterapkan guna meminimalisir overfitting.\n",
        "*   Fully-connected Layer: Setelah proses convolution, dikondisikan sebagai input untuk Multi-layer Perceptron terdiri dari 10 input dan 3 output. Pada tahap ini diimplementasikan pula aktivasi \"softmax\".\n",
        "\n",
        "Untuk mencegah overfitting, kita menerapkan EarlyStopping. Sehingga, meskipun epoch belum selesai, training sudah selesai."
      ],
      "metadata": {
        "id": "oHtIT8ULC7mQ"
      }
    },
    {
      "cell_type": "code",
      "metadata": {
        "id": "gJZvNLSsqa6G",
        "colab": {
          "base_uri": "https://localhost:8080/"
        },
        "outputId": "297794a6-499e-4065-fbe8-7bf40bcce9a0"
      },
      "source": [
        "embed_dim = 100\n",
        "units = 64\n",
        "\n",
        "model_lstm = Sequential()\n",
        "model_lstm.add(Embedding(max_features, embed_dim, input_length=X.shape[1]))\n",
        "model_lstm.add(LSTM(units, dropout=0.2))\n",
        "model_lstm.add(Dense(3,activation='softmax'))\n",
        "\n",
        "adam = optimizers.Adam(lr = 0.001)\n",
        "model_lstm.compile(loss = 'categorical_crossentropy', optimizer = adam, metrics = ['accuracy'])\n",
        "print(model_lstm.summary())\n",
        "\n",
        "es = EarlyStopping(monitor='val_loss', mode='min', patience=3 , verbose=1)\n",
        "history = model_lstm.fit(X_train, y_train, epochs=10, batch_size=10, validation_data=(X_test, y_test), verbose=1, callbacks=[es])"
      ],
      "execution_count": null,
      "outputs": [
        {
          "output_type": "stream",
          "name": "stdout",
          "text": [
            "Model: \"sequential_7\"\n",
            "_________________________________________________________________\n",
            " Layer (type)                Output Shape              Param #   \n",
            "=================================================================\n",
            " embedding_7 (Embedding)     (None, 58, 100)           10000000  \n",
            "                                                                 \n",
            " lstm_1 (LSTM)               (None, 64)                42240     \n",
            "                                                                 \n",
            " dense_7 (Dense)             (None, 3)                 195       \n",
            "                                                                 \n",
            "=================================================================\n",
            "Total params: 10,042,435\n",
            "Trainable params: 10,042,435\n",
            "Non-trainable params: 0\n",
            "_________________________________________________________________\n",
            "None\n",
            "Epoch 1/10\n"
          ]
        },
        {
          "output_type": "stream",
          "name": "stderr",
          "text": [
            "/usr/local/lib/python3.8/dist-packages/keras/optimizers/optimizer_v2/adam.py:110: UserWarning: The `lr` argument is deprecated, use `learning_rate` instead.\n",
            "  super(Adam, self).__init__(name, **kwargs)\n"
          ]
        },
        {
          "output_type": "stream",
          "name": "stdout",
          "text": [
            "880/880 [==============================] - 117s 130ms/step - loss: 0.4890 - accuracy: 0.8045 - val_loss: 0.4299 - val_accuracy: 0.8386\n",
            "Epoch 2/10\n",
            "880/880 [==============================] - 112s 127ms/step - loss: 0.2338 - accuracy: 0.9123 - val_loss: 0.4355 - val_accuracy: 0.8395\n",
            "Epoch 3/10\n",
            "880/880 [==============================] - 115s 130ms/step - loss: 0.1260 - accuracy: 0.9518 - val_loss: 0.4939 - val_accuracy: 0.8409\n",
            "Epoch 4/10\n",
            "880/880 [==============================] - 115s 131ms/step - loss: 0.0766 - accuracy: 0.9691 - val_loss: 0.5948 - val_accuracy: 0.8314\n",
            "Epoch 4: early stopping\n"
          ]
        }
      ]
    },
    {
      "cell_type": "markdown",
      "source": [
        "## Confussion Matrix, Accuracy, F1, Recall, Precision"
      ],
      "metadata": {
        "id": "mlIE91ATJYu6"
      }
    },
    {
      "cell_type": "markdown",
      "source": [
        "Langkah selanjutnya adalah \"Evaluation\". Module \"classification_report\" dari Sklearn merupakan salah satu modul untuk melakukan \"Evaluation\". Pada tahap evaluasi ini kita akan menerapkan metode evaluasi Accuracy, Precision, Recall dan F1-Score."
      ],
      "metadata": {
        "id": "W7SfnDouMCmE"
      }
    },
    {
      "cell_type": "code",
      "source": [
        "from sklearn import metrics\n",
        "\n",
        "predictions = model_lstm.predict(X_test)\n",
        "y_pred = predictions\n",
        "matrix_test = metrics.classification_report(y_test.argmax(axis=1), y_pred.argmax(axis=1))\n",
        "print(\"Testing selesai\")\n",
        "print(matrix_test)"
      ],
      "metadata": {
        "colab": {
          "base_uri": "https://localhost:8080/"
        },
        "id": "x6pvd9ZfMGeQ",
        "outputId": "29bffa5f-cd6a-491e-ef66-d58550cd48d5"
      },
      "execution_count": null,
      "outputs": [
        {
          "output_type": "stream",
          "name": "stdout",
          "text": [
            "69/69 [==============================] - 1s 12ms/step\n",
            "Testing selesai\n",
            "              precision    recall  f1-score   support\n",
            "\n",
            "           0       0.75      0.79      0.77       685\n",
            "           1       0.78      0.70      0.74       233\n",
            "           2       0.89      0.88      0.88      1282\n",
            "\n",
            "    accuracy                           0.83      2200\n",
            "   macro avg       0.80      0.79      0.80      2200\n",
            "weighted avg       0.83      0.83      0.83      2200\n",
            "\n"
          ]
        }
      ]
    },
    {
      "cell_type": "markdown",
      "source": [
        "Hasilnya nilai F1 Score ada pada angka 0.83 untuk Negative, **??** untuk Neutral, dan 0.91 untuk Positive. Hasil ini bisa dikatakan cukup bagus untuk sebuah model, namun kecenderungan untuk memilih sentimen netralnya lemah."
      ],
      "metadata": {
        "id": "Dx6MbJLOMVlb"
      }
    },
    {
      "cell_type": "markdown",
      "source": [
        "## Cross Validation"
      ],
      "metadata": {
        "id": "20ev_IQrMo5u"
      }
    },
    {
      "cell_type": "code",
      "source": [
        "# Untuk lebih menyakinkan lagi, kita juga bisa melakukan \"Cross Validation\"\n",
        "import numpy as np\n",
        "from sklearn.metrics import classification_report\n",
        "from sklearn.metrics import accuracy_score\n",
        "from sklearn.model_selection import KFold\n",
        "\n",
        "kf = KFold(n_splits=5,random_state=42,shuffle=True)\n",
        "\n",
        "accuracies = []\n",
        "\n",
        "y = Y\n",
        "\n",
        "embed_dim = 100\n",
        "units = 64\n",
        "\n",
        "for iteration, data in enumerate(kf.split(X), start=1):\n",
        "\n",
        "    data_train   = X[data[0]]\n",
        "    target_train = y[data[0]]\n",
        "\n",
        "    data_test    = X[data[1]]\n",
        "    target_test  = y[data[1]]\n",
        "\n",
        "\n",
        "    model_lstm = Sequential()\n",
        "    model_lstm.add(Embedding(max_features, embed_dim, input_length=X.shape[1]))\n",
        "    model_lstm.add(LSTM(units, dropout=0.2))\n",
        "    model_lstm.add(Dense(3,activation='softmax'))\n",
        "\n",
        "    adam = optimizers.Adam(lr = 0.001)\n",
        "    model_lstm.compile(loss = 'categorical_crossentropy', optimizer = adam, metrics = ['accuracy'])\n",
        "\n",
        "    es = EarlyStopping(monitor='val_loss', mode='min',patience=3 , verbose=0)\n",
        "    history = model_lstm.fit(X_train, y_train, epochs=10, batch_size=10, validation_data=(X_test, y_test), verbose=0, callbacks=[es])\n",
        "\n",
        "    predictions = model_lstm.predict(X_test)\n",
        "    y_pred = predictions\n",
        "\n",
        "    # for the current fold only\n",
        "    accuracy = accuracy_score(y_test.argmax(axis=1), y_pred.argmax(axis=1))\n",
        "\n",
        "    print(\"Training ke-\", iteration)\n",
        "    print(classification_report(y_test.argmax(axis=1), y_pred.argmax(axis=1)))\n",
        "    print(\"======================================================\")\n",
        "\n",
        "    accuracies.append(accuracy)\n",
        "\n",
        "# this is the average accuracy over all folds\n",
        "average_accuracy = np.mean(accuracies)\n",
        "\n",
        "print()\n",
        "print()\n",
        "print()\n",
        "print(\"Rata-rata Accuracy: \", average_accuracy)"
      ],
      "metadata": {
        "colab": {
          "base_uri": "https://localhost:8080/"
        },
        "id": "4sKAqP5nMh6F",
        "outputId": "2b4ce5de-ec80-48c0-80d4-ff536627e129"
      },
      "execution_count": null,
      "outputs": [
        {
          "output_type": "stream",
          "name": "stderr",
          "text": [
            "/usr/local/lib/python3.8/dist-packages/keras/optimizers/optimizer_v2/adam.py:110: UserWarning: The `lr` argument is deprecated, use `learning_rate` instead.\n",
            "  super(Adam, self).__init__(name, **kwargs)\n"
          ]
        },
        {
          "output_type": "stream",
          "name": "stdout",
          "text": [
            "69/69 [==============================] - 1s 12ms/step\n",
            "Training ke- 1\n",
            "              precision    recall  f1-score   support\n",
            "\n",
            "           0       0.80      0.70      0.75       685\n",
            "           1       0.73      0.77      0.75       233\n",
            "           2       0.87      0.91      0.89      1282\n",
            "\n",
            "    accuracy                           0.83      2200\n",
            "   macro avg       0.80      0.80      0.80      2200\n",
            "weighted avg       0.83      0.83      0.83      2200\n",
            "\n",
            "======================================================\n"
          ]
        },
        {
          "output_type": "stream",
          "name": "stderr",
          "text": [
            "/usr/local/lib/python3.8/dist-packages/keras/optimizers/optimizer_v2/adam.py:110: UserWarning: The `lr` argument is deprecated, use `learning_rate` instead.\n",
            "  super(Adam, self).__init__(name, **kwargs)\n"
          ]
        },
        {
          "output_type": "stream",
          "name": "stdout",
          "text": [
            "69/69 [==============================] - 1s 12ms/step\n",
            "Training ke- 2\n",
            "              precision    recall  f1-score   support\n",
            "\n",
            "           0       0.76      0.76      0.76       685\n",
            "           1       0.75      0.69      0.72       233\n",
            "           2       0.88      0.89      0.88      1282\n",
            "\n",
            "    accuracy                           0.83      2200\n",
            "   macro avg       0.80      0.78      0.79      2200\n",
            "weighted avg       0.83      0.83      0.83      2200\n",
            "\n",
            "======================================================\n"
          ]
        },
        {
          "output_type": "stream",
          "name": "stderr",
          "text": [
            "/usr/local/lib/python3.8/dist-packages/keras/optimizers/optimizer_v2/adam.py:110: UserWarning: The `lr` argument is deprecated, use `learning_rate` instead.\n",
            "  super(Adam, self).__init__(name, **kwargs)\n"
          ]
        },
        {
          "output_type": "stream",
          "name": "stdout",
          "text": [
            "69/69 [==============================] - 1s 12ms/step\n",
            "Training ke- 3\n",
            "              precision    recall  f1-score   support\n",
            "\n",
            "           0       0.79      0.77      0.78       685\n",
            "           1       0.76      0.77      0.77       233\n",
            "           2       0.89      0.90      0.90      1282\n",
            "\n",
            "    accuracy                           0.85      2200\n",
            "   macro avg       0.81      0.81      0.81      2200\n",
            "weighted avg       0.84      0.85      0.85      2200\n",
            "\n",
            "======================================================\n"
          ]
        },
        {
          "output_type": "stream",
          "name": "stderr",
          "text": [
            "/usr/local/lib/python3.8/dist-packages/keras/optimizers/optimizer_v2/adam.py:110: UserWarning: The `lr` argument is deprecated, use `learning_rate` instead.\n",
            "  super(Adam, self).__init__(name, **kwargs)\n"
          ]
        },
        {
          "output_type": "stream",
          "name": "stdout",
          "text": [
            "69/69 [==============================] - 1s 13ms/step\n",
            "Training ke- 4\n",
            "              precision    recall  f1-score   support\n",
            "\n",
            "           0       0.76      0.72      0.74       685\n",
            "           1       0.73      0.77      0.75       233\n",
            "           2       0.87      0.89      0.88      1282\n",
            "\n",
            "    accuracy                           0.82      2200\n",
            "   macro avg       0.79      0.79      0.79      2200\n",
            "weighted avg       0.82      0.82      0.82      2200\n",
            "\n",
            "======================================================\n"
          ]
        },
        {
          "output_type": "stream",
          "name": "stderr",
          "text": [
            "/usr/local/lib/python3.8/dist-packages/keras/optimizers/optimizer_v2/adam.py:110: UserWarning: The `lr` argument is deprecated, use `learning_rate` instead.\n",
            "  super(Adam, self).__init__(name, **kwargs)\n"
          ]
        },
        {
          "output_type": "stream",
          "name": "stdout",
          "text": [
            "69/69 [==============================] - 1s 12ms/step\n",
            "Training ke- 5\n",
            "              precision    recall  f1-score   support\n",
            "\n",
            "           0       0.77      0.79      0.78       685\n",
            "           1       0.76      0.71      0.73       233\n",
            "           2       0.89      0.89      0.89      1282\n",
            "\n",
            "    accuracy                           0.84      2200\n",
            "   macro avg       0.81      0.80      0.80      2200\n",
            "weighted avg       0.84      0.84      0.84      2200\n",
            "\n",
            "======================================================\n",
            "\n",
            "\n",
            "\n",
            "Rata-rata Accuracy:  0.8335454545454546\n"
          ]
        }
      ]
    },
    {
      "cell_type": "markdown",
      "source": [
        "Hasilnya nilai rata-rata accuracy pada angka 0.8335454545454546. Ini menunjukkan model kita cukup stabil pada angka 0.83."
      ],
      "metadata": {
        "id": "oxy_CShXM54U"
      }
    },
    {
      "cell_type": "markdown",
      "source": [
        "## Visualization LSTM"
      ],
      "metadata": {
        "id": "DlVbc0I_M9p6"
      }
    },
    {
      "cell_type": "code",
      "source": [
        "# history.history\n",
        "import matplotlib.pyplot as plt\n",
        "plt.style.use('ggplot')\n",
        "\n",
        "def plot_history(history):\n",
        "    acc = history.history['accuracy']\n",
        "    val_acc = history.history['val_accuracy']\n",
        "    loss = history.history['loss']\n",
        "    val_loss = history.history['val_loss']\n",
        "    x = range(1, len(acc) + 1)\n",
        "\n",
        "    plt.figure(figsize=(12, 5))\n",
        "    plt.subplot(1, 2, 1)\n",
        "    plt.plot(x, acc, 'b', label='Training acc')\n",
        "    plt.plot(x, val_acc, 'r', label='Validation acc')\n",
        "    plt.title('Training and validation accuracy')\n",
        "    plt.legend()\n",
        "    plt.subplot(1, 2, 2)\n",
        "    plt.plot(x, loss, 'b', label='Training loss')\n",
        "    plt.plot(x, val_loss, 'r', label='Validation loss')\n",
        "    plt.title('Training and validation loss')\n",
        "    plt.legend()\n",
        "\n",
        "%matplotlib inline\n",
        "plot_history(history)"
      ],
      "metadata": {
        "colab": {
          "base_uri": "https://localhost:8080/",
          "height": 337
        },
        "id": "qc-YN3gbNIem",
        "outputId": "b4472b14-8ee2-4cb2-8073-502a4cd6996a"
      },
      "execution_count": null,
      "outputs": [
        {
          "output_type": "display_data",
          "data": {
            "text/plain": [
              "<Figure size 864x360 with 2 Axes>"
            ],
            "image/png": "[encoded data removed]"
          },
          "metadata": {
            "needs_background": "light"
          }
        }
      ]
    },
    {
      "cell_type": "markdown",
      "source": [
        "Hasilnya jika kita melihat visualisasinya model yang kita kembangkan tergolong Underfitting. Disinyalir karena:\n",
        "\n",
        "\n",
        "*   Data training terlalu sedikit\n",
        "*   Proses training berhenti terlalu cepat. Mungkin saja penerapan EarlyStopping untuk kasus kita tidak terlalu tepat\n"
      ],
      "metadata": {
        "id": "93lzfsDiNM3I"
      }
    },
    {
      "cell_type": "code",
      "source": [
        "model_lstm.save('model_lstm.h5')\n",
        "print(\"Model has created!\")"
      ],
      "metadata": {
        "colab": {
          "base_uri": "https://localhost:8080/"
        },
        "id": "riE2b530Ne4G",
        "outputId": "a12d9ac6-c3cf-42fe-dd2f-e0fc571de9d2"
      },
      "execution_count": null,
      "outputs": [
        {
          "output_type": "stream",
          "name": "stdout",
          "text": [
            "Model has created!\n"
          ]
        }
      ]
    },
    {
      "cell_type": "markdown",
      "source": [],
      "metadata": {
        "id": "UlJA6HAlcVBE"
      }
    },
    {
      "cell_type": "markdown",
      "source": [
        "# 7. **Data Tweet**"
      ],
      "metadata": {
        "id": "pNAMeyq9x1gI"
      }
    },
    {
      "cell_type": "code",
      "source": [
        "data_twt = 'https://raw.githubusercontent.com/adamazanos/Challenge-PLATINUM-K6/master/twitter_abuse/data.csv'\n",
        "\n",
        "df_tweet = pd.read_csv(data_twt, encoding='latin-1')"
      ],
      "metadata": {
        "id": "D0pxT9bqQqjS"
      },
      "execution_count": null,
      "outputs": []
    },
    {
      "cell_type": "code",
      "source": [
        "df_predict = df_tweet[['Tweet']].copy()\n",
        "df_predict.head()"
      ],
      "metadata": {
        "colab": {
          "base_uri": "https://localhost:8080/",
          "height": 206
        },
        "id": "RDL-GEFdS_fM",
        "outputId": "dd0ce867-5178-45af-fcea-19e1fedde6fa"
      },
      "execution_count": null,
      "outputs": [
        {
          "output_type": "execute_result",
          "data": {
            "text/plain": [
              "                                               Tweet\n",
              "0  - disaat semua cowok berusaha melacak perhatia...\n",
              "1  RT USER: USER siapa yang telat ngasih tau elu?...\n",
              "2  41. Kadang aku berfikir, kenapa aku tetap perc...\n",
              "3  USER USER AKU ITU AKU\\n\\nKU TAU MATAMU SIPIT T...\n",
              "4  USER USER Kaum cebong kapir udah keliatan dong..."
            ],
            "text/html": [
              "\n",
              "  <div id=\"df-134b8d82-dfd0-4ffa-b36a-bd96922c9aa1\">\n",
              "    <div class=\"colab-df-container\">\n",
              "      <div>\n",
              "<style scoped>\n",
              "    .dataframe tbody tr th:only-of-type {\n",
              "        vertical-align: middle;\n",
              "    }\n",
              "\n",
              "    .dataframe tbody tr th {\n",
              "        vertical-align: top;\n",
              "    }\n",
              "\n",
              "    .dataframe thead th {\n",
              "        text-align: right;\n",
              "    }\n",
              "</style>\n",
              "<table border=\"1\" class=\"dataframe\">\n",
              "  <thead>\n",
              "    <tr style=\"text-align: right;\">\n",
              "      <th></th>\n",
              "      <th>Tweet</th>\n",
              "    </tr>\n",
              "  </thead>\n",
              "  <tbody>\n",
              "    <tr>\n",
              "      <th>0</th>\n",
              "      <td>- disaat semua cowok berusaha melacak perhatia...</td>\n",
              "    </tr>\n",
              "    <tr>\n",
              "      <th>1</th>\n",
              "      <td>RT USER: USER siapa yang telat ngasih tau elu?...</td>\n",
              "    </tr>\n",
              "    <tr>\n",
              "      <th>2</th>\n",
              "      <td>41. Kadang aku berfikir, kenapa aku tetap perc...</td>\n",
              "    </tr>\n",
              "    <tr>\n",
              "      <th>3</th>\n",
              "      <td>USER USER AKU ITU AKU\\n\\nKU TAU MATAMU SIPIT T...</td>\n",
              "    </tr>\n",
              "    <tr>\n",
              "      <th>4</th>\n",
              "      <td>USER USER Kaum cebong kapir udah keliatan dong...</td>\n",
              "    </tr>\n",
              "  </tbody>\n",
              "</table>\n",
              "</div>\n",
              "      <button class=\"colab-df-convert\" onclick=\"convertToInteractive('df-134b8d82-dfd0-4ffa-b36a-bd96922c9aa1')\"\n",
              "              title=\"Convert this dataframe to an interactive table.\"\n",
              "              style=\"display:none;\">\n",
              "        \n",
              "  <svg xmlns=\"http://www.w3.org/2000/svg\" height=\"24px\"viewBox=\"0 0 24 24\"\n",
              "       width=\"24px\">\n",
              "    <path d=\"M0 0h24v24H0V0z\" fill=\"none\"/>\n",
              "    <path d=\"M18.56 5.44l.94 2.06.94-2.06 2.06-.94-2.06-.94-.94-2.06-.94 2.06-2.06.94zm-11 1L8.5 8.5l.94-2.06 2.06-.94-2.06-.94L8.5 2.5l-.94 2.06-2.06.94zm10 10l.94 2.06.94-2.06 2.06-.94-2.06-.94-.94-2.06-.94 2.06-2.06.94z\"/><path d=\"M17.41 7.96l-1.37-1.37c-.4-.4-.92-.59-1.43-.59-.52 0-1.04.2-1.43.59L10.3 9.45l-7.72 7.72c-.78.78-.78 2.05 0 2.83L4 21.41c.39.39.9.59 1.41.59.51 0 1.02-.2 1.41-.59l7.78-7.78 2.81-2.81c.8-.78.8-2.07 0-2.86zM5.41 20L4 18.59l7.72-7.72 1.47 1.35L5.41 20z\"/>\n",
              "  </svg>\n",
              "      </button>\n",
              "      \n",
              "  <style>\n",
              "    .colab-df-container {\n",
              "      display:flex;\n",
              "      flex-wrap:wrap;\n",
              "      gap: 12px;\n",
              "    }\n",
              "\n",
              "    .colab-df-convert {\n",
              "      background-color: #E8F0FE;\n",
              "      border: none;\n",
              "      border-radius: 50%;\n",
              "      cursor: pointer;\n",
              "      display: none;\n",
              "      fill: #1967D2;\n",
              "      height: 32px;\n",
              "      padding: 0 0 0 0;\n",
              "      width: 32px;\n",
              "    }\n",
              "\n",
              "    .colab-df-convert:hover {\n",
              "      background-color: #E2EBFA;\n",
              "      box-shadow: 0px 1px 2px rgba(60, 64, 67, 0.3), 0px 1px 3px 1px rgba(60, 64, 67, 0.15);\n",
              "      fill: #174EA6;\n",
              "    }\n",
              "\n",
              "    [theme=dark] .colab-df-convert {\n",
              "      background-color: #3B4455;\n",
              "      fill: #D2E3FC;\n",
              "    }\n",
              "\n",
              "    [theme=dark] .colab-df-convert:hover {\n",
              "      background-color: #434B5C;\n",
              "      box-shadow: 0px 1px 3px 1px rgba(0, 0, 0, 0.15);\n",
              "      filter: drop-shadow(0px 1px 2px rgba(0, 0, 0, 0.3));\n",
              "      fill: #FFFFFF;\n",
              "    }\n",
              "  </style>\n",
              "\n",
              "      <script>\n",
              "        const buttonEl =\n",
              "          document.querySelector('#df-134b8d82-dfd0-4ffa-b36a-bd96922c9aa1 button.colab-df-convert');\n",
              "        buttonEl.style.display =\n",
              "          google.colab.kernel.accessAllowed ? 'block' : 'none';\n",
              "\n",
              "        async function convertToInteractive(key) {\n",
              "          const element = document.querySelector('#df-134b8d82-dfd0-4ffa-b36a-bd96922c9aa1');\n",
              "          const dataTable =\n",
              "            await google.colab.kernel.invokeFunction('convertToInteractive',\n",
              "                                                     [key], {});\n",
              "          if (!dataTable) return;\n",
              "\n",
              "          const docLinkHtml = 'Like what you see? Visit the ' +\n",
              "            '<a target=\"_blank\" href=https://colab.research.google.com/notebooks/data_table.ipynb>data table notebook</a>'\n",
              "            + ' to learn more about interactive tables.';\n",
              "          element.innerHTML = '';\n",
              "          dataTable['output_type'] = 'display_data';\n",
              "          await google.colab.output.renderOutput(dataTable, element);\n",
              "          const docLink = document.createElement('div');\n",
              "          docLink.innerHTML = docLinkHtml;\n",
              "          element.appendChild(docLink);\n",
              "        }\n",
              "      </script>\n",
              "    </div>\n",
              "  </div>\n",
              "  "
            ]
          },
          "metadata": {},
          "execution_count": 54
        }
      ]
    },
    {
      "cell_type": "markdown",
      "metadata": {
        "id": "27a5d640"
      },
      "source": [
        "#8.**Predict**"
      ]
    },
    {
      "cell_type": "code",
      "execution_count": null,
      "metadata": {
        "id": "d390593f"
      },
      "outputs": [],
      "source": [
        "import re\n",
        "from keras.models import load_model\n",
        "import numpy as np\n",
        "import pickle\n",
        "from tensorflow.keras.preprocessing.sequence import pad_sequences"
      ]
    },
    {
      "cell_type": "code",
      "execution_count": null,
      "metadata": {
        "id": "37cd8bb9"
      },
      "outputs": [],
      "source": [
        "sentiment = ['negative', 'neutral', 'positive']\n",
        "\n",
        "def get_sent(sent):\n",
        "    if sent==0:\n",
        "        sent='negative'\n",
        "    elif sent==1:\n",
        "        sent='neutral'\n",
        "    else: sent='positive'\n",
        "    return sent\n",
        "\n",
        "file_tokenizer = open('tokenizer.pickle', 'rb')\n",
        "file_sequencer = open('x_pad_sequences.pickle', 'rb')\n",
        "load_tokenizer = pickle.load(file_tokenizer)\n",
        "load_sequencer = pickle.load(file_sequencer)\n",
        "file_sequencer.close()\n",
        "model_nn = load_model('model_nn.h5')\n",
        "model_lstm = load_model('model_lstm.h5')"
      ]
    },
    {
      "cell_type": "markdown",
      "metadata": {
        "id": "199b421b"
      },
      "source": [
        "##A. Predict Neural Network"
      ]
    },
    {
      "cell_type": "markdown",
      "metadata": {
        "id": "a5df9b9f"
      },
      "source": [
        "Predict Text"
      ]
    },
    {
      "cell_type": "code",
      "execution_count": null,
      "metadata": {
        "colab": {
          "base_uri": "https://localhost:8080/"
        },
        "id": "4d6b248f",
        "outputId": "3f788147-224e-4c9a-f486-92964dba2859"
      },
      "outputs": [
        {
          "name": "stdout",
          "output_type": "stream",
          "text": [
            "1/1 [==============================] - 0s 19ms/step\n",
            "Text :  syukur \n",
            "Sentiment:  positive\n"
          ]
        }
      ],
      "source": [
        "input_text = \"\"\"\n",
        "syukur\n",
        "\"\"\"\n",
        "\n",
        "text = [data_prepocessing(input_text)]\n",
        "feature = load_tokenizer.texts_to_sequences(text)\n",
        "sequences= pad_sequences(feature, maxlen=load_sequencer.shape[1])\n",
        "\n",
        "prediction = model_nn.predict(sequences)\n",
        "get_sentiment = sentiment[np.argmax(prediction[0])]\n",
        "\n",
        "\n",
        "print(\"Text : \",text[0])\n",
        "print(\"Sentiment: \",get_sentiment)"
      ]
    },
    {
      "cell_type": "markdown",
      "metadata": {
        "id": "73566764"
      },
      "source": [
        "Predict DataFrame"
      ]
    },
    {
      "cell_type": "code",
      "execution_count": null,
      "metadata": {
        "colab": {
          "base_uri": "https://localhost:8080/"
        },
        "id": "83533c82",
        "outputId": "dafdf331-dd15-4aef-bd20-09305861a055"
      },
      "outputs": [
        {
          "name": "stdout",
          "output_type": "stream",
          "text": [
            "412/412 [==============================] - 1s 1ms/step\n"
          ]
        }
      ],
      "source": [
        "data_pre = df_predict['Tweet']\n",
        "\n",
        "data_processed= []\n",
        "for text in data_pre:\n",
        "  text = data_prepocessing(text)\n",
        "  data_processed.append(text)\n",
        "\n",
        "feature = load_tokenizer.texts_to_sequences(data_processed)\n",
        "sequences= pad_sequences(feature, maxlen=load_sequencer.shape[1])\n",
        "\n",
        "prediction = model_nn.predict(sequences)\n",
        "get_sentiment = np.argmax(prediction, axis=1)\n",
        "get_sentiment = get_sentiment.reshape(-1,1)\n",
        "\n",
        "get= []\n",
        "for text in get_sentiment:\n",
        "    sent= get_sent(text)\n",
        "    get.append(sent)"
      ]
    },
    {
      "cell_type": "code",
      "execution_count": null,
      "metadata": {
        "id": "e3eb72f8"
      },
      "outputs": [],
      "source": [
        "df_predict['Text_Clean']= data_processed\n",
        "df_predict['Sentiment']= get"
      ]
    },
    {
      "cell_type": "code",
      "execution_count": null,
      "metadata": {
        "colab": {
          "base_uri": "https://localhost:8080/",
          "height": 424
        },
        "id": "440d97be",
        "outputId": "acb01edb-d665-4074-fa61-576b1ed707df"
      },
      "outputs": [
        {
          "data": {
            "text/html": [
              "<div>\n",
              "<style scoped>\n",
              "    .dataframe tbody tr th:only-of-type {\n",
              "        vertical-align: middle;\n",
              "    }\n",
              "\n",
              "    .dataframe tbody tr th {\n",
              "        vertical-align: top;\n",
              "    }\n",
              "\n",
              "    .dataframe thead th {\n",
              "        text-align: right;\n",
              "    }\n",
              "</style>\n",
              "<table border=\"1\" class=\"dataframe\">\n",
              "  <thead>\n",
              "    <tr style=\"text-align: right;\">\n",
              "      <th></th>\n",
              "      <th>Tweet</th>\n",
              "      <th>Text_Clean</th>\n",
              "      <th>Sentiment</th>\n",
              "    </tr>\n",
              "  </thead>\n",
              "  <tbody>\n",
              "    <tr>\n",
              "      <th>0</th>\n",
              "      <td>- disaat semua cowok berusaha melacak perhatia...</td>\n",
              "      <td>cowok berusaha melacak perhatian gue lantas r...</td>\n",
              "      <td>negative</td>\n",
              "    </tr>\n",
              "    <tr>\n",
              "      <th>1</th>\n",
              "      <td>RT USER: USER siapa yang telat ngasih tau elu?...</td>\n",
              "      <td>telat tau edan sarap gue bergaul cigax jifla ...</td>\n",
              "      <td>negative</td>\n",
              "    </tr>\n",
              "    <tr>\n",
              "      <th>2</th>\n",
              "      <td>41. Kadang aku berfikir, kenapa aku tetap perc...</td>\n",
              "      <td>kadang berpikir percaya tuhan jatuh berkali ka...</td>\n",
              "      <td>positive</td>\n",
              "    </tr>\n",
              "    <tr>\n",
              "      <th>3</th>\n",
              "      <td>USER USER AKU ITU AKU\\n\\nKU TAU MATAMU SIPIT T...</td>\n",
              "      <td>ku tau matamu sipit</td>\n",
              "      <td>positive</td>\n",
              "    </tr>\n",
              "    <tr>\n",
              "      <th>4</th>\n",
              "      <td>USER USER Kaum cebong kapir udah keliatan dong...</td>\n",
              "      <td>kaum cebong kafir dongoknya dungu haha</td>\n",
              "      <td>negative</td>\n",
              "    </tr>\n",
              "    <tr>\n",
              "      <th>...</th>\n",
              "      <td>...</td>\n",
              "      <td>...</td>\n",
              "      <td>...</td>\n",
              "    </tr>\n",
              "    <tr>\n",
              "      <th>13164</th>\n",
              "      <td>USER jangan asal ngomong ndasmu. congor lu yg ...</td>\n",
              "      <td>berbicara ndasmu congor sekateanjyng</td>\n",
              "      <td>negative</td>\n",
              "    </tr>\n",
              "    <tr>\n",
              "      <th>13165</th>\n",
              "      <td>USER Kasur mana enak kunyuk'</td>\n",
              "      <td>kasur enak kunyuk</td>\n",
              "      <td>negative</td>\n",
              "    </tr>\n",
              "    <tr>\n",
              "      <th>13166</th>\n",
              "      <td>USER Hati hati bisu :( .g\\n\\nlagi bosan huft \\...</td>\n",
              "      <td>hati hati bisu bosan duh</td>\n",
              "      <td>negative</td>\n",
              "    </tr>\n",
              "    <tr>\n",
              "      <th>13167</th>\n",
              "      <td>USER USER USER USER Bom yang real mudah terdet...</td>\n",
              "      <td>bom real mudah terdeteksi bom terkubur dahsyat...</td>\n",
              "      <td>neutral</td>\n",
              "    </tr>\n",
              "    <tr>\n",
              "      <th>13168</th>\n",
              "      <td>USER Mana situ ngasih(\": itu cuma foto ya kuti...</td>\n",
              "      <td>situ foto ya kutil onta</td>\n",
              "      <td>negative</td>\n",
              "    </tr>\n",
              "  </tbody>\n",
              "</table>\n",
              "<p>13169 rows × 3 columns</p>\n",
              "</div>"
            ],
            "text/plain": [
              "                                                   Tweet  \\\n",
              "0      - disaat semua cowok berusaha melacak perhatia...   \n",
              "1      RT USER: USER siapa yang telat ngasih tau elu?...   \n",
              "2      41. Kadang aku berfikir, kenapa aku tetap perc...   \n",
              "3      USER USER AKU ITU AKU\\n\\nKU TAU MATAMU SIPIT T...   \n",
              "4      USER USER Kaum cebong kapir udah keliatan dong...   \n",
              "...                                                  ...   \n",
              "13164  USER jangan asal ngomong ndasmu. congor lu yg ...   \n",
              "13165                       USER Kasur mana enak kunyuk'   \n",
              "13166  USER Hati hati bisu :( .g\\n\\nlagi bosan huft \\...   \n",
              "13167  USER USER USER USER Bom yang real mudah terdet...   \n",
              "13168  USER Mana situ ngasih(\": itu cuma foto ya kuti...   \n",
              "\n",
              "                                              Text_Clean Sentiment  \n",
              "0       cowok berusaha melacak perhatian gue lantas r...  negative  \n",
              "1       telat tau edan sarap gue bergaul cigax jifla ...  negative  \n",
              "2      kadang berpikir percaya tuhan jatuh berkali ka...  positive  \n",
              "3                                   ku tau matamu sipit   positive  \n",
              "4                kaum cebong kafir dongoknya dungu haha   negative  \n",
              "...                                                  ...       ...  \n",
              "13164              berbicara ndasmu congor sekateanjyng   negative  \n",
              "13165                                 kasur enak kunyuk   negative  \n",
              "13166                          hati hati bisu bosan duh   negative  \n",
              "13167  bom real mudah terdeteksi bom terkubur dahsyat...   neutral  \n",
              "13168                           situ foto ya kutil onta   negative  \n",
              "\n",
              "[13169 rows x 3 columns]"
            ]
          },
          "execution_count": 25,
          "metadata": {},
          "output_type": "execute_result"
        }
      ],
      "source": [
        "df_predict"
      ]
    },
    {
      "cell_type": "code",
      "execution_count": null,
      "metadata": {
        "colab": {
          "base_uri": "https://localhost:8080/",
          "height": 300
        },
        "id": "61de8be5",
        "outputId": "49155884-4870-4498-edbe-fffa92653f64"
      },
      "outputs": [
        {
          "data": {
            "text/plain": [
              "<AxesSubplot: xlabel='Sentiment', ylabel='count'>"
            ]
          },
          "execution_count": 26,
          "metadata": {},
          "output_type": "execute_result"
        },
        {
          "data": {
            "image/png": "[encoded data removed]",
            "text/plain": [
              "<Figure size 640x480 with 1 Axes>"
            ]
          },
          "metadata": {},
          "output_type": "display_data"
        }
      ],
      "source": [
        "import seaborn as sns\n",
        "sns.countplot(x='Sentiment', data=df_predict)"
      ]
    },
    {
      "cell_type": "markdown",
      "metadata": {
        "id": "9cf723b2"
      },
      "source": [
        "## B. **Predict LSTM**"
      ]
    },
    {
      "cell_type": "markdown",
      "metadata": {
        "id": "e15f9fb8"
      },
      "source": [
        "Predict Text"
      ]
    },
    {
      "cell_type": "code",
      "execution_count": null,
      "metadata": {
        "colab": {
          "base_uri": "https://localhost:8080/"
        },
        "id": "9251ac45",
        "outputId": "8469dd0c-f3b2-43ea-9906-ebd306d5ab19"
      },
      "outputs": [
        {
          "name": "stdout",
          "output_type": "stream",
          "text": [
            "1/1 [==============================] - 0s 296ms/step\n",
            "Text :  syukur \n",
            "Sentiment:  neutral\n"
          ]
        }
      ],
      "source": [
        "input_text = \"\"\"\n",
        "syukur\n",
        "\"\"\"\n",
        "\n",
        "text = [data_prepocessing(input_text)]\n",
        "feature = load_tokenizer.texts_to_sequences(text)\n",
        "sequences= pad_sequences(feature, maxlen=load_sequencer.shape[1])\n",
        "\n",
        "prediction = model_lstm.predict(sequences)\n",
        "get_sentiment = sentiment[np.argmax(prediction[0])]\n",
        "\n",
        "\n",
        "print(\"Text : \",text[0])\n",
        "print(\"Sentiment: \",get_sentiment)"
      ]
    },
    {
      "cell_type": "markdown",
      "metadata": {
        "id": "bd392281"
      },
      "source": [
        "Predict DataFrame"
      ]
    },
    {
      "cell_type": "code",
      "execution_count": null,
      "metadata": {
        "colab": {
          "base_uri": "https://localhost:8080/"
        },
        "id": "579dba5e",
        "outputId": "782d69f0-bbcd-4d5d-c1c3-114aa2ea9ffa"
      },
      "outputs": [
        {
          "name": "stdout",
          "output_type": "stream",
          "text": [
            "412/412 [==============================] - 2s 6ms/step\n"
          ]
        }
      ],
      "source": [
        "data_pre = df_predict['Tweet']\n",
        "\n",
        "data_processed= []\n",
        "for text in data_pre:\n",
        "  text = data_prepocessing(text)\n",
        "  data_processed.append(text)\n",
        "\n",
        "feature = load_tokenizer.texts_to_sequences(data_processed)\n",
        "sequences= pad_sequences(feature, maxlen=load_sequencer.shape[1])\n",
        "\n",
        "prediction = model_lstm.predict(sequences)\n",
        "get_sentiment = np.argmax(prediction, axis=1)\n",
        "get_sentiment = get_sentiment.reshape(-1,1)\n",
        "\n",
        "get= []\n",
        "for text in get_sentiment:\n",
        "    sent= get_sent(text)\n",
        "    get.append(sent)"
      ]
    },
    {
      "cell_type": "code",
      "execution_count": null,
      "metadata": {
        "id": "a8ac9979"
      },
      "outputs": [],
      "source": [
        "df_predict['Text_Clean']= data_processed\n",
        "df_predict['Sentiment']= get"
      ]
    },
    {
      "cell_type": "code",
      "execution_count": null,
      "metadata": {
        "colab": {
          "base_uri": "https://localhost:8080/",
          "height": 424
        },
        "id": "2aad1aed",
        "outputId": "7987f33a-ce21-42ad-912e-5ea071fbd4c1"
      },
      "outputs": [
        {
          "data": {
            "text/html": [
              "<div>\n",
              "<style scoped>\n",
              "    .dataframe tbody tr th:only-of-type {\n",
              "        vertical-align: middle;\n",
              "    }\n",
              "\n",
              "    .dataframe tbody tr th {\n",
              "        vertical-align: top;\n",
              "    }\n",
              "\n",
              "    .dataframe thead th {\n",
              "        text-align: right;\n",
              "    }\n",
              "</style>\n",
              "<table border=\"1\" class=\"dataframe\">\n",
              "  <thead>\n",
              "    <tr style=\"text-align: right;\">\n",
              "      <th></th>\n",
              "      <th>Tweet</th>\n",
              "      <th>Text_Clean</th>\n",
              "      <th>Sentiment</th>\n",
              "    </tr>\n",
              "  </thead>\n",
              "  <tbody>\n",
              "    <tr>\n",
              "      <th>0</th>\n",
              "      <td>- disaat semua cowok berusaha melacak perhatia...</td>\n",
              "      <td>cowok berusaha melacak perhatian gue lantas r...</td>\n",
              "      <td>negative</td>\n",
              "    </tr>\n",
              "    <tr>\n",
              "      <th>1</th>\n",
              "      <td>RT USER: USER siapa yang telat ngasih tau elu?...</td>\n",
              "      <td>telat tau edan sarap gue bergaul cigax jifla ...</td>\n",
              "      <td>negative</td>\n",
              "    </tr>\n",
              "    <tr>\n",
              "      <th>2</th>\n",
              "      <td>41. Kadang aku berfikir, kenapa aku tetap perc...</td>\n",
              "      <td>kadang berpikir percaya tuhan jatuh berkali ka...</td>\n",
              "      <td>positive</td>\n",
              "    </tr>\n",
              "    <tr>\n",
              "      <th>3</th>\n",
              "      <td>USER USER AKU ITU AKU\\n\\nKU TAU MATAMU SIPIT T...</td>\n",
              "      <td>ku tau matamu sipit</td>\n",
              "      <td>neutral</td>\n",
              "    </tr>\n",
              "    <tr>\n",
              "      <th>4</th>\n",
              "      <td>USER USER Kaum cebong kapir udah keliatan dong...</td>\n",
              "      <td>kaum cebong kafir dongoknya dungu haha</td>\n",
              "      <td>negative</td>\n",
              "    </tr>\n",
              "    <tr>\n",
              "      <th>...</th>\n",
              "      <td>...</td>\n",
              "      <td>...</td>\n",
              "      <td>...</td>\n",
              "    </tr>\n",
              "    <tr>\n",
              "      <th>13164</th>\n",
              "      <td>USER jangan asal ngomong ndasmu. congor lu yg ...</td>\n",
              "      <td>berbicara ndasmu congor sekateanjyng</td>\n",
              "      <td>negative</td>\n",
              "    </tr>\n",
              "    <tr>\n",
              "      <th>13165</th>\n",
              "      <td>USER Kasur mana enak kunyuk'</td>\n",
              "      <td>kasur enak kunyuk</td>\n",
              "      <td>negative</td>\n",
              "    </tr>\n",
              "    <tr>\n",
              "      <th>13166</th>\n",
              "      <td>USER Hati hati bisu :( .g\\n\\nlagi bosan huft \\...</td>\n",
              "      <td>hati hati bisu bosan duh</td>\n",
              "      <td>negative</td>\n",
              "    </tr>\n",
              "    <tr>\n",
              "      <th>13167</th>\n",
              "      <td>USER USER USER USER Bom yang real mudah terdet...</td>\n",
              "      <td>bom real mudah terdeteksi bom terkubur dahsyat...</td>\n",
              "      <td>negative</td>\n",
              "    </tr>\n",
              "    <tr>\n",
              "      <th>13168</th>\n",
              "      <td>USER Mana situ ngasih(\": itu cuma foto ya kuti...</td>\n",
              "      <td>situ foto ya kutil onta</td>\n",
              "      <td>negative</td>\n",
              "    </tr>\n",
              "  </tbody>\n",
              "</table>\n",
              "<p>13169 rows × 3 columns</p>\n",
              "</div>"
            ],
            "text/plain": [
              "                                                   Tweet  \\\n",
              "0      - disaat semua cowok berusaha melacak perhatia...   \n",
              "1      RT USER: USER siapa yang telat ngasih tau elu?...   \n",
              "2      41. Kadang aku berfikir, kenapa aku tetap perc...   \n",
              "3      USER USER AKU ITU AKU\\n\\nKU TAU MATAMU SIPIT T...   \n",
              "4      USER USER Kaum cebong kapir udah keliatan dong...   \n",
              "...                                                  ...   \n",
              "13164  USER jangan asal ngomong ndasmu. congor lu yg ...   \n",
              "13165                       USER Kasur mana enak kunyuk'   \n",
              "13166  USER Hati hati bisu :( .g\\n\\nlagi bosan huft \\...   \n",
              "13167  USER USER USER USER Bom yang real mudah terdet...   \n",
              "13168  USER Mana situ ngasih(\": itu cuma foto ya kuti...   \n",
              "\n",
              "                                              Text_Clean Sentiment  \n",
              "0       cowok berusaha melacak perhatian gue lantas r...  negative  \n",
              "1       telat tau edan sarap gue bergaul cigax jifla ...  negative  \n",
              "2      kadang berpikir percaya tuhan jatuh berkali ka...  positive  \n",
              "3                                   ku tau matamu sipit    neutral  \n",
              "4                kaum cebong kafir dongoknya dungu haha   negative  \n",
              "...                                                  ...       ...  \n",
              "13164              berbicara ndasmu congor sekateanjyng   negative  \n",
              "13165                                 kasur enak kunyuk   negative  \n",
              "13166                          hati hati bisu bosan duh   negative  \n",
              "13167  bom real mudah terdeteksi bom terkubur dahsyat...  negative  \n",
              "13168                           situ foto ya kutil onta   negative  \n",
              "\n",
              "[13169 rows x 3 columns]"
            ]
          },
          "execution_count": 31,
          "metadata": {},
          "output_type": "execute_result"
        }
      ],
      "source": [
        "df_predict"
      ]
    },
    {
      "cell_type": "code",
      "execution_count": null,
      "metadata": {
        "colab": {
          "base_uri": "https://localhost:8080/",
          "height": 300
        },
        "id": "04f639f4",
        "outputId": "65ceb258-718b-42b0-c3b1-a17c1b1edfdf"
      },
      "outputs": [
        {
          "data": {
            "text/plain": [
              "<AxesSubplot: xlabel='Sentiment', ylabel='count'>"
            ]
          },
          "execution_count": 32,
          "metadata": {},
          "output_type": "execute_result"
        },
        {
          "data": {
            "image/png": "[encoded data removed]",
            "text/plain": [
              "<Figure size 640x480 with 1 Axes>"
            ]
          },
          "metadata": {},
          "output_type": "display_data"
        }
      ],
      "source": [
        "import seaborn as sns\n",
        "sns.countplot(x='Sentiment', data=df_predict)"
      ]
    },
    {
      "cell_type": "code",
      "execution_count": null,
      "metadata": {
        "id": "31c498ed"
      },
      "outputs": [],
      "source": []
    }
  ]
}